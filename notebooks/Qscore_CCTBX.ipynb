{
 "cells": [
  {
   "cell_type": "code",
   "execution_count": 1,
   "id": "cbbd462f-cf6c-4512-b17a-a28938ec2e56",
   "metadata": {},
   "outputs": [],
   "source": [
    "import iotbx.pdb\n",
    "from scitbx.array_family import flex\n",
    "from cctbx import crystal\n",
    "import cctbx\n",
    "import math\n",
    "from iotbx.data_manager import DataManager\n",
    "from itertools import chain\n",
    "from collections import defaultdict\n",
    "from scipy.spatial import KDTree\n",
    "import sys\n",
    "sys.path.append(\"../\")\n",
    "from qscore_utils import *\n",
    "dm = DataManager()\n",
    "dm.process_model_file(\"../../data/1yjp.pdb\")\n",
    "model = dm.get_model()"
   ]
  },
  {
   "cell_type": "code",
   "execution_count": 2,
   "id": "2f9cc777-0c87-488e-8f9a-7e00ea42792c",
   "metadata": {
    "tags": []
   },
   "outputs": [],
   "source": [
    "import itertools\n",
    "class FlexContainer:\n",
    "    def __init__(self, data,debug=True,shape=None):\n",
    "        if isinstance(data,np.ndarray):\n",
    "            int_types = tuple([dtype for dtype in np.sctypeDict.values() if np.issubdtype(dtype, np.integer)])\n",
    "            float_types = tuple([dtype for dtype in np.sctypeDict.values() if np.issubdtype(dtype, np.floating)])\n",
    "            bool_types = tuple([bool,np.bool_])\n",
    "            \n",
    "            if data.dtype in int_types:\n",
    "                data = flex.uint64(data)\n",
    "            elif data.dtype in float_types:\n",
    "                data =flex.double(data)\n",
    "            elif data.dtype in bool_types:\n",
    "                data = flex.bool(data)\n",
    "            else:\n",
    "                assert False, \"Unrecognized numpy dtype: \"+str(data.dtype)\n",
    "        \n",
    "        assert \"scitbx_array_family_flex\" in str(type(data)), \"Initialize with a flex array\"\n",
    "        \n",
    "        if shape is None:\n",
    "            shape = data.focus()\n",
    "        if isinstance(shape,int):\n",
    "            shape = (shape,)\n",
    "        if shape!=data.focus():#,\"Shape and focus are out of sync :\"+str(data.focus())+\"(flex focus) vs \"+str(shape)+\" (shape)\"\n",
    "            data.reshape(flex.grid(shape))\n",
    "            \n",
    "        self._data = data\n",
    "        self._shape = shape\n",
    "        self._debug=debug # if true, some  numpy consitency checks are performed dynamically\n",
    "    \n",
    "    def __repr__(self):\n",
    "        a = self.np\n",
    "        return self.as_numpy_array().__class__.__repr__(self)\n",
    "    \n",
    "    def __len__(self):\n",
    "        return self.shape[0]\n",
    "    \n",
    "    def _intake_other(self,other):\n",
    "        if isinstance(other,FlexContainer):\n",
    "            other = other.data\n",
    "        elif \"scitbx_array_family_flex\" in str(type(other)):\n",
    "            other = other\n",
    "        elif isinstance(other,np.ndarray):\n",
    "            other = FlexContainer(other).data\n",
    "        else:\n",
    "            assert False, \"Unable to intake the 'other' object of type: \"+str(type(other))\n",
    "        return other\n",
    "\n",
    "\n",
    "\n",
    "\n",
    "    def sum(self, axis=None):\n",
    "        # If axis is None, sum all values\n",
    "        if axis is None:\n",
    "            total_sum = flex.sum(self.data)\n",
    "            return self.__class__(flex.double([total_sum]), shape=(1,))\n",
    "        if not isinstance(self.shape, tuple) or len(self.shape) == 1:\n",
    "            if axis not in [None, 0]:\n",
    "                raise ValueError(f\"For a 1D FlexContainer, 'axis' should be either 0 or None, but got {axis}\")\n",
    "\n",
    "        \n",
    "\n",
    "        # Check if axis is valid\n",
    "        if axis < 0 or axis >= len(self.shape):\n",
    "            raise ValueError(f\"Invalid axis {axis}. Expected value between 0 and {len(self.shape) - 1}\")\n",
    "\n",
    "        # Construct a slicing tuple for all dimensions\n",
    "        full_slice = [slice(None) for _ in self.shape]\n",
    "\n",
    "        # Create a list of all axes except the one being summed over\n",
    "        other_axes = [i for i in range(len(self.shape)) if i != axis]\n",
    "\n",
    "        # List to store summed values\n",
    "        all_indices = list(itertools.product(*(range(self.shape[i]) for i in other_axes)))\n",
    "        result = flex.double(len(all_indices), 0.0)\n",
    "\n",
    "        # Use itertools.product to generate combinations of indices from other_axes\n",
    "        for indices_idx, indices in enumerate(all_indices):\n",
    "            current_slice = full_slice.copy()\n",
    "            for ax, idx in zip(other_axes, indices):\n",
    "                current_slice[ax] = idx\n",
    "\n",
    "            all_sum_indices = self.__class__._nd_to_1d_indices(tuple(current_slice), self.shape)\n",
    "            values_to_sum = self.data.select(flex.uint32(all_sum_indices))\n",
    "            result[indices_idx] = flex.sum(values_to_sum)\n",
    "\n",
    "        # Calculate the new shape by removing the summed axis\n",
    "        new_shape = list(self.shape)\n",
    "        #print(f\"Original shape: {self.shape}\")  # Debug statement\n",
    "        #print(f\"Axis to delete: {axis}\")        # Debug statement\n",
    "        del new_shape[axis]\n",
    "        new_shape = tuple(new_shape)\n",
    "\n",
    "        return self.__class__(result, shape=new_shape)\n",
    "\n",
    "\n",
    "\n",
    "\n",
    "\n",
    "\n",
    "\n",
    "\n",
    "    \n",
    "    def __add__(self, other):\n",
    "        other = self._intake_other(other)\n",
    "        return self.__class__(self.data + other)\n",
    "\n",
    "    def __sub__(self, other):\n",
    "        other = self._intake_other(other)\n",
    "        return self.__class__(self.data - other)\n",
    "\n",
    "    def __mul__(self, other):\n",
    "        other = self._intake_other(other)\n",
    "        return self.__class__(self.data * other)\n",
    "\n",
    "    def __truediv__(self, other):\n",
    "        other = self._intake_other(other)\n",
    "        return self.__class__(self.data / other)\n",
    "\n",
    "    def __floordiv__(self, other):\n",
    "        other = self._intake_other(other)\n",
    "        return self.__class__(self.data // other)\n",
    "\n",
    "    def __mod__(self, other):\n",
    "        other = self._intake_other(other)\n",
    "        return self.__class__(self.data % other)\n",
    "\n",
    "    def __pow__(self, power, modulo=None):\n",
    "        if modulo:\n",
    "            return self.__class__(pow(self.data, power, modulo))\n",
    "        return self.__class__(self.data ** power)\n",
    "\n",
    "    def __lshift__(self, other):\n",
    "        other = self._intake_other(other)\n",
    "        return self.__class__(self.data << other)\n",
    "\n",
    "    def __rshift__(self, other):\n",
    "        other = self._intake_other(other)\n",
    "        return self.__class__(self.data >> other)\n",
    "\n",
    "    def __and__(self, other):\n",
    "        other = self._intake_other(other)\n",
    "        return self.__class__(self.data & other)\n",
    "\n",
    "    def __or__(self, other):\n",
    "        other = self._intake_other(other)\n",
    "        return self.__class__(self.data | other)\n",
    "\n",
    "    def __xor__(self, other):\n",
    "        other = self._intake_other(other)\n",
    "        return self.__class__(self.data ^ other)\n",
    "\n",
    "    # There are also reflected and in-place versions of these operations.\n",
    "    # For example:\n",
    "    # def __radd__(self, other):\n",
    "    #     return other + self.data\n",
    "    # \n",
    "    # def __iadd__(self, other):\n",
    "    #     self.data += other\n",
    "    #     return self\n",
    "    # ... and so on for each operation\n",
    "\n",
    "\n",
    "    \n",
    "    def __getitem__(self, indices):\n",
    "        if not isinstance(indices,tuple):\n",
    "            indices = (indices,)\n",
    "        #print(\"Input indices:\", indices)\n",
    "        indices = self.__class__._preprocess_indices(indices, self.shape)\n",
    "        #print(\"Processed indices:\", indices)\n",
    "        indices_flat = self.__class__._nd_to_1d_indices(indices, self.shape)\n",
    "        #print(\"Flattened indices:\", indices_flat, \"Length:\", len(indices_flat))\n",
    "        if not  \"scitbx_array_family_flex\" in str(type(indices_flat)):\n",
    "            indices_flat = flex.uint32(indices_flat)\n",
    "        #print(list(indices_flat))\n",
    "        new_shape = self.__class__._compute_sliced_shape(self.shape,indices)\n",
    "        #print(\"Computed new shape:\", new_shape)\n",
    "        new_data = self.data.select(indices_flat)\n",
    "        #print(new_shape)\n",
    "        if len(new_shape)==0:\n",
    "            new_shape = (1,)\n",
    "        new_data.reshape(flex.grid(new_shape))\n",
    "        out = self.__class__(new_data,shape=new_shape)\n",
    "        if self._debug:\n",
    "            #print(indices)\n",
    "            try:\n",
    "                compare = out.np==self.np[*indices]\n",
    "            except:\n",
    "                compare = out.np==self.np[indices]\n",
    "            passed = np.all(compare)\n",
    "            if not passed:\n",
    "                #print(out.np)\n",
    "                #print(self.np[*indices])\n",
    "                assert False\n",
    "           \n",
    "        return out\n",
    "    \n",
    "    @staticmethod\n",
    "    def _preprocess_indices(indices, shape):\n",
    "        # Convert scalar indices and single slices to a tuple\n",
    "        if isinstance(indices, (int, slice, np.ndarray)) or \"scitbx_array_family_flex\" in str(type(indices)):\n",
    "            indices = [indices]\n",
    "        else:\n",
    "            indices = list(indices)\n",
    "\n",
    "        # Special handling for 1D arrays with list-based indices\n",
    "        if len(shape) == 1 and isinstance(indices[0], list):\n",
    "            indices = [indices]\n",
    "\n",
    "        # Convert numpy arrays and flex arrays to list\n",
    "        for i, idx in enumerate(indices):\n",
    "            if isinstance(idx, np.ndarray):\n",
    "                indices[i] = idx.tolist()\n",
    "            elif \"scitbx_array_family_flex\" in str(type(idx)):\n",
    "                indices[i] = list(idx)\n",
    "\n",
    "        # Pad the indices to match the shape's dimensions with slices\n",
    "        while len(indices) < len(shape):\n",
    "            indices.append(slice(None, None, None))\n",
    "\n",
    "        return indices[:len(shape)+1]  # In case indices originally had more dimensions than shape\n",
    "\n",
    "#     @staticmethod\n",
    "#     def _nd_to_1d_indices(indices, shape):\n",
    "#         # Calculate strides for each dimension\n",
    "#         strides = [1] * len(shape)\n",
    "#         for i in reversed(range(len(shape) - 1)):\n",
    "#             strides[i] = strides[i + 1] * shape[i + 1]\n",
    "\n",
    "#         if len(indices) == 1 and isinstance(indices[0], list):\n",
    "#             # Handle special case of list-based indexing\n",
    "#             return [index * strides[0] for index in indices[0]]\n",
    "\n",
    "#         indices_multi_dim = [range(i.start or 0, i.stop or s, i.step or 1) if isinstance(i, slice) else [i] if isinstance(i, int) else i for i, s in zip(indices, shape)]\n",
    "\n",
    "#         all_indices = list(itertools.product(*indices_multi_dim))\n",
    "\n",
    "#         # Pre-calculate 1D indices\n",
    "#         result = []\n",
    "#         for index_tuple in all_indices:\n",
    "#             index_1d = 0\n",
    "#             for i, s in zip(index_tuple, strides):\n",
    "#                 index_1d += i * s\n",
    "#             result.append(index_1d)\n",
    "\n",
    "#         return result\n",
    "\n",
    "\n",
    "\n",
    "\n",
    "    @staticmethod\n",
    "    def _nd_to_1d_indices(indices, shape):\n",
    "        # Calculate strides for each dimension\n",
    "        strides = [1] * len(shape)\n",
    "        for i in reversed(range(len(shape)-1)):\n",
    "            strides[i] = strides[i+1] * shape[i+1]\n",
    "\n",
    "        if len(indices) == 1 and isinstance(indices[0], list):\n",
    "            # Handle special case of list-based indexing\n",
    "            return [index * strides[0] for index in indices[0]]\n",
    "\n",
    "        indices_multi_dim = [range(i.start or 0, i.stop or s, i.step or 1) if isinstance(i, slice) else [i] if isinstance(i, int) else i for i, s in zip(indices, shape)]\n",
    "        all_indices = itertools.product(*indices_multi_dim)\n",
    "\n",
    "        return [sum(i * s for i, s in zip(index_tuple, strides)) for index_tuple in all_indices] # expensive line\n",
    "\n",
    "    \n",
    "    \n",
    "    @staticmethod\n",
    "    def _compute_sliced_shape(shape, indices):\n",
    "        output_shape = []\n",
    "        for dim_size, idx in zip(shape, indices):\n",
    "            if isinstance(idx, slice):\n",
    "                start, stop, step = idx.indices(dim_size)\n",
    "                sliced_size = len(range(start, stop, step))\n",
    "                output_shape.append(sliced_size)\n",
    "            elif isinstance(idx, int):\n",
    "                continue\n",
    "            elif isinstance(idx, list):\n",
    "                output_shape.append(len(idx))\n",
    "            else:\n",
    "                raise ValueError(\"Invalid index encountered: \" + str(idx))\n",
    "\n",
    "        return tuple(output_shape)\n",
    "    \n",
    "    def __setitem__(self, indices,value):\n",
    "        if isinstance(value,(float,int,bool)):\n",
    "            if isinstance(value,float):\n",
    "                value = flex.double([value])\n",
    "            elif isinstance(value,int):\n",
    "                value = flex.uint64([value])\n",
    "            elif isinstance(value,bool):\n",
    "                value = flex.bool([value])\n",
    "        assert \"scitbx_array_family_flex\" in str(type(value)) or isinstance(value,self.__class__), \"Set new data with a flex array or FlexContainer\"\n",
    "        if isinstance(value,self.__class__):\n",
    "            value = value.data\n",
    "        indices = self.__class__._preprocess_indices(indices, self.shape)\n",
    "        indices_flat = self.__class__._nd_to_1d_indices(indices, self.shape)\n",
    "        if not  \"scitbx_array_family_flex\" in str(type(indices_flat)):\n",
    "            indices_flat = flex.uint32(indices_flat)\n",
    "        self.data.reshape(flex.grid((self.data.size(),)))\n",
    "        self._data = self.data.set_selected(indices_flat,value.as_1d())\n",
    "        self.data.reshape(flex.grid(self.shape))\n",
    "        \n",
    "    \n",
    "    @property\n",
    "    def np(self):\n",
    "        return self.numpy()\n",
    "    \n",
    "    def numpy(self):\n",
    "        return self.data.as_numpy_array()\n",
    "    @property\n",
    "    def ndim(self):\n",
    "        return len(self.shape)\n",
    "    @property\n",
    "    def shape(self):\n",
    "        return self._shape\n",
    "    @shape.setter\n",
    "    def shape(self,value):\n",
    "        self._shape = value\n",
    "    @property\n",
    "    def data(self):\n",
    "        return self._data\n",
    "\n",
    "\n",
    "\n",
    "\n",
    "\n",
    "\n",
    "\n",
    "    \n",
    "    @staticmethod\n",
    "    def _reshape_to_nd_list(data, shape):\n",
    "        if not isinstance(data,list):\n",
    "            data = list(data)\n",
    "        # Base case: if the shape tuple has only one dimension left\n",
    "        if len(shape) == 1:\n",
    "            return data[:shape[0]]\n",
    "        # Recursive case: split data into chunks and reshape further\n",
    "        chunk_size = len(data) // shape[0]\n",
    "        return [FlexContainer._reshape_to_nd_list(data[i*chunk_size:(i+1)*chunk_size], shape[1:])\n",
    "                for i in range(shape[0])]\n",
    "    \n",
    "    @staticmethod\n",
    "    def _get_depth(lst, level=1):\n",
    "        \"\"\"Recursively determine the depth of the nested list\"\"\"\n",
    "        if not isinstance(lst, list) or not lst:\n",
    "            return level\n",
    "        return max(FlexContainer._get_depth(item, level + 1) for item in lst)\n",
    "    \n",
    "    @staticmethod\n",
    "    def _flatten_nested_list(nested_list, target_dim=None):\n",
    "        current_depth = FlexContainer._get_depth(nested_list)\n",
    "\n",
    "        if target_dim is None:\n",
    "            target_dim = 1\n",
    "\n",
    "        if target_dim <= 0 or target_dim > current_depth:\n",
    "            raise ValueError(f\"Target dimension must be between 1 and {current_depth} (inclusive).\")\n",
    "\n",
    "        flatten_count = current_depth - target_dim\n",
    "        flattened_list = nested_list\n",
    "        for _ in range(flatten_count):\n",
    "            flattened_list = [item for sublist in flattened_list for item in (sublist if isinstance(sublist, list) else [sublist])]\n",
    "        return flattened_list\n",
    "\n",
    "    def tolist(self):\n",
    "        return self._reshape_to_nd_list(self.data,self.shape)\n",
    "    \n",
    "    def reshape(self,shape):\n",
    "        self.data.reshape(flex.grid(shape))\n",
    "        self.shape = shape"
   ]
  },
  {
   "cell_type": "code",
   "execution_count": 13,
   "id": "746d6f0a-e3ed-4c86-b0c9-6d54d5c341e5",
   "metadata": {
    "tags": []
   },
   "outputs": [
    {
     "ename": "NameError",
     "evalue": "name 'h' is not defined",
     "output_type": "error",
     "traceback": [
      "\u001b[0;31m---------------------------------------------------------------------------\u001b[0m",
      "\u001b[0;31mNameError\u001b[0m                                 Traceback (most recent call last)",
      "Cell \u001b[0;32mIn[13], line 1\u001b[0m\n\u001b[0;32m----> 1\u001b[0m a \u001b[38;5;241m=\u001b[39m h\u001b[38;5;241m.\u001b[39mas_numpy_array()\n\u001b[1;32m      2\u001b[0m a\u001b[38;5;241m.\u001b[39m\u001b[38;5;18m__class__\u001b[39m\u001b[38;5;241m.\u001b[39m\u001b[38;5;21m__repr__\u001b[39m(a)\n",
      "\u001b[0;31mNameError\u001b[0m: name 'h' is not defined"
     ]
    },
    {
     "name": "stdout",
     "output_type": "stream",
     "text": [
      "> \u001b[0;32m/tmp/ipykernel_16304/1353764124.py\u001b[0m(1)\u001b[0;36m<module>\u001b[0;34m()\u001b[0m\n",
      "\u001b[0;32m----> 1 \u001b[0;31m\u001b[0ma\u001b[0m \u001b[0;34m=\u001b[0m \u001b[0mh\u001b[0m\u001b[0;34m.\u001b[0m\u001b[0mas_numpy_array\u001b[0m\u001b[0;34m(\u001b[0m\u001b[0;34m)\u001b[0m\u001b[0;34m\u001b[0m\u001b[0;34m\u001b[0m\u001b[0m\n",
      "\u001b[0m\u001b[0;32m      2 \u001b[0;31m\u001b[0ma\u001b[0m\u001b[0;34m.\u001b[0m\u001b[0m__class__\u001b[0m\u001b[0;34m.\u001b[0m\u001b[0m__repr__\u001b[0m\u001b[0;34m(\u001b[0m\u001b[0ma\u001b[0m\u001b[0;34m)\u001b[0m\u001b[0;34m\u001b[0m\u001b[0;34m\u001b[0m\u001b[0m\n",
      "\u001b[0m\n"
     ]
    },
    {
     "name": "stdin",
     "output_type": "stream",
     "text": [
      "ipdb>  exit\n"
     ]
    }
   ],
   "source": [
    "a = h.as_numpy_array()\n",
    "a.__class__.__repr__(a)"
   ]
  },
  {
   "cell_type": "code",
   "execution_count": null,
   "id": "73112b17-a7a8-4049-8cdd-49229f981d0a",
   "metadata": {},
   "outputs": [],
   "source": []
  },
  {
   "cell_type": "code",
   "execution_count": 3,
   "id": "ef90a829-500a-461b-bf42-3c469a5a1913",
   "metadata": {
    "tags": []
   },
   "outputs": [
    {
     "name": "stdout",
     "output_type": "stream",
     "text": [
      "[0, 1, 2]\n",
      "[[0, 1, 2], slice(None, None, None)]\n",
      "[1, slice(None, None, None)]\n",
      "[slice(None, None, None), 2]\n"
     ]
    }
   ],
   "source": [
    "import numpy as np\n",
    "print(FlexContainer._preprocess_indices([0,1,2],(3,3)))\n",
    "print(FlexContainer._preprocess_indices([[0,1,2]],(3,3)))\n",
    "print(FlexContainer._preprocess_indices((1,),(3,3)))\n",
    "print(FlexContainer._preprocess_indices((slice(None,None,None),2),(3,3)))"
   ]
  },
  {
   "cell_type": "code",
   "execution_count": 4,
   "id": "0e1ae786-41e8-43db-b985-59eeb671509a",
   "metadata": {
    "tags": []
   },
   "outputs": [
    {
     "name": "stdout",
     "output_type": "stream",
     "text": [
      "Distance between A[0] and B[0] is 10.392304845413264\n",
      "Distance between A[0] and B[0] is 10.392304845413264\n",
      "Distance between A[0] and B[0] is 10.392304845413264\n",
      "\n",
      "Distance between A[0] and B[1] is 13.856406460551018\n",
      "Distance between A[0] and B[1] is 13.856406460551018\n",
      "Distance between A[0] and B[1] is 13.856406460551018\n",
      "\n",
      "Distance between A[0] and B[2] is 17.320508075688775\n",
      "Distance between A[0] and B[2] is 17.320508075688775\n",
      "Distance between A[0] and B[2] is 17.320508075688775\n",
      "\n",
      "Distance between A[1] and B[0] is 6.928203230275509\n",
      "Distance between A[1] and B[0] is 6.928203230275509\n",
      "Distance between A[1] and B[0] is 6.928203230275509\n",
      "\n",
      "Distance between A[1] and B[1] is 10.392304845413264\n",
      "Distance between A[1] and B[1] is 10.392304845413264\n",
      "Distance between A[1] and B[1] is 10.392304845413264\n",
      "\n",
      "Distance between A[1] and B[2] is 13.856406460551018\n",
      "Distance between A[1] and B[2] is 13.856406460551018\n",
      "Distance between A[1] and B[2] is 13.856406460551018\n",
      "\n",
      "Distance between A[2] and B[0] is 3.4641016151377544\n",
      "Distance between A[2] and B[0] is 3.4641016151377544\n",
      "Distance between A[2] and B[0] is 3.4641016151377544\n",
      "\n",
      "Distance between A[2] and B[1] is 6.928203230275509\n",
      "Distance between A[2] and B[1] is 6.928203230275509\n",
      "Distance between A[2] and B[1] is 6.928203230275509\n",
      "\n",
      "Distance between A[2] and B[2] is 10.392304845413264\n",
      "Distance between A[2] and B[2] is 10.392304845413264\n",
      "Distance between A[2] and B[2] is 10.392304845413264\n",
      "\n"
     ]
    }
   ],
   "source": [
    "import numpy as np\n",
    "from scipy.spatial import distance\n",
    "\n",
    "# Example data\n",
    "\n",
    "A = np.array([[1, 2,3], [3, 4,5], [5, 6,7]])\n",
    "B = np.array([[7, 8,9], [9, 10,11], [11, 12,13]])\n",
    "shape = A.shape\n",
    "dist_matrix = distance.cdist(A, B)\n",
    "flattened_dists = dist_matrix.flatten()\n",
    "\n",
    "# Create an association between flattened distances and their (i, j) indices\n",
    "indices = np.array([(i,j) for i in range(shape[0]) for j in range(shape[0])])\n",
    "\n",
    "\n",
    "i_s = indices[:,0]\n",
    "j_s = indices[:,1]\n",
    "ds = np.sqrt(np.sum((A[i_s] - B[j_s])**2,axis=1))\n",
    "\n",
    "\n",
    "for idx,(i, j) in enumerate(indices):\n",
    "    d = dist_matrix[i,j]\n",
    "    print(f\"Distance between A[{i}] and B[{j}] is {d}\")\n",
    "    d2 = np.sqrt(np.sum((A[i] - B[j])**2))\n",
    "    print(f\"Distance between A[{i}] and B[{j}] is {d2}\")\n",
    "    d3 = ds[idx]\n",
    "    print(f\"Distance between A[{i}] and B[{j}] is {d3}\\n\")"
   ]
  },
  {
   "cell_type": "code",
   "execution_count": 5,
   "id": "98691943-b481-4a88-a825-2a3c19ad068e",
   "metadata": {
    "tags": []
   },
   "outputs": [],
   "source": [
    "A_flex = FlexContainer(A.astype(float))\n",
    "B_flex = FlexContainer(B.astype(float))"
   ]
  },
  {
   "cell_type": "code",
   "execution_count": 6,
   "id": "0421301d-48ed-42e1-bea2-0097cc1332d8",
   "metadata": {
    "tags": []
   },
   "outputs": [
    {
     "data": {
      "text/plain": [
       "[3, 4, 5, 6, 7, 8, 3, 4, 5]"
      ]
     },
     "execution_count": 6,
     "metadata": {},
     "output_type": "execute_result"
    }
   ],
   "source": [
    "FlexContainer._nd_to_1d_indices(([1, 2, 1],slice(None,None,None)),A_flex.shape)"
   ]
  },
  {
   "cell_type": "code",
   "execution_count": 7,
   "id": "2ef9ee91-9f57-40da-ae28-8775a5b92f25",
   "metadata": {
    "tags": []
   },
   "outputs": [
    {
     "name": "stdout",
     "output_type": "stream",
     "text": [
      "(3, 3)\n",
      "(3, 3)\n",
      "(1, 3)\n"
     ]
    }
   ],
   "source": [
    "a = A_flex\n",
    "print(a.shape)\n",
    "print(a[[1,2,1]].shape) # Expected: (3,)\n",
    "print(a[[1]].shape)"
   ]
  },
  {
   "cell_type": "code",
   "execution_count": 8,
   "id": "7b8cc043-f026-4dc8-bd46-7f108d085aef",
   "metadata": {
    "tags": []
   },
   "outputs": [],
   "source": [
    "\n",
    "a = ((((A_flex[i_s]-B_flex[j_s])**2)).sum(axis=1))**0.5\n",
    "\n",
    "ds = (((A[i_s] - B[j_s])**2).sum(axis=1))**0.5\n",
    "\n",
    "assert np.all(np.isclose(a.np,ds))"
   ]
  },
  {
   "cell_type": "code",
   "execution_count": 9,
   "id": "3d63251f-d00e-4db5-a9c4-87895a9100b6",
   "metadata": {
    "tags": []
   },
   "outputs": [],
   "source": [
    "from scipy.spatial.distance import pdist,cdist\n",
    "from cctbx.array_family import flex\n",
    "import itertools\n",
    "\n",
    "arr = np.random.random((1000,3))\n",
    "A,B = arr,arr\n",
    "A_flex,B_flex = flex.double(A), flex.double(B)\n",
    "\n"
   ]
  },
  {
   "cell_type": "code",
   "execution_count": 10,
   "id": "719c3274-417d-46d2-bb9b-013e8ca57b3d",
   "metadata": {
    "tags": []
   },
   "outputs": [],
   "source": [
    "from qscore_cctbx import radial_shell_worker_cctbx\n",
    "from qscore import radial_shell_worker"
   ]
  },
  {
   "cell_type": "code",
   "execution_count": 11,
   "id": "e46bb247-77ad-4c91-9884-684042495034",
   "metadata": {
    "tags": []
   },
   "outputs": [
    {
     "name": "stdout",
     "output_type": "stream",
     "text": [
      "Automatic pdb calling has been turned ON\n"
     ]
    }
   ],
   "source": [
    "%pdb"
   ]
  },
  {
   "cell_type": "code",
   "execution_count": 12,
   "id": "8891e253-c227-4e8e-b660-e476c88bf26d",
   "metadata": {
    "tags": []
   },
   "outputs": [],
   "source": [
    "from qscore import radial_shell_worker, radial_shell_mp"
   ]
  },
  {
   "cell_type": "code",
   "execution_count": 16,
   "id": "a5b566d7-6306-44e2-a5e2-9f2b5031b6b7",
   "metadata": {
    "tags": []
   },
   "outputs": [],
   "source": [
    "\n"
   ]
  },
  {
   "cell_type": "code",
   "execution_count": 14,
   "id": "11cd3c8c-7a98-49ea-a0ba-91358a56b166",
   "metadata": {
    "tags": []
   },
   "outputs": [],
   "source": [
    "args = 0,atoms_xyz.as_numpy_array(),16, 8,2,0.9 \n",
    "probes_xyz, keep_mask, all_pts_np = radial_shell_worker(args) # probe_xyz, keep_mask = "
   ]
  },
  {
   "cell_type": "code",
   "execution_count": 26,
   "id": "f524517c-db0e-47e0-bf57-af5b159dd387",
   "metadata": {
    "tags": []
   },
   "outputs": [
    {
     "ename": "AssertionError",
     "evalue": "(12, 6)",
     "output_type": "error",
     "traceback": [
      "\u001b[0;31m---------------------------------------------------------------------------\u001b[0m",
      "\u001b[0;31mAssertionError\u001b[0m                            Traceback (most recent call last)",
      "Cell \u001b[0;32mIn[26], line 5\u001b[0m\n\u001b[1;32m      3\u001b[0m pt_np \u001b[38;5;241m=\u001b[39m all_pts_np[i][j]\n\u001b[1;32m      4\u001b[0m pt_flex \u001b[38;5;241m=\u001b[39m all_pts_cctbx[i][j]\u001b[38;5;241m.\u001b[39mas_numpy_array()\n\u001b[0;32m----> 5\u001b[0m \u001b[38;5;28;01massert\u001b[39;00m np\u001b[38;5;241m.\u001b[39mall(np\u001b[38;5;241m.\u001b[39misclose(pt_np,pt_flex)), (i,j)\n",
      "\u001b[0;31mAssertionError\u001b[0m: (12, 6)"
     ]
    }
   ],
   "source": [
    "for i in range(66): # for each atom\n",
    "    for j in range(8): # for each probe\n",
    "        pt_np = all_pts_np[i][j]\n",
    "        pt_flex = all_pts_cctbx[i][j].as_numpy_array()\n",
    "        assert np.all(np.isclose(pt_np,pt_flex)), (i,j)\n",
    "        "
   ]
  },
  {
   "cell_type": "code",
   "execution_count": 30,
   "id": "fef548cd-ec62-4512-a635-1f5c4509554b",
   "metadata": {
    "tags": []
   },
   "outputs": [
    {
     "name": "stdout",
     "output_type": "stream",
     "text": [
      "[-5.61218292  0.34915574  4.945     ]\n",
      "[[-6.23383033  1.61436062  4.785     ]]\n"
     ]
    }
   ],
   "source": [
    "i,j = 12,6\n",
    "print(all_pts_np[i][j])\n",
    "print(all_pts_cctbx[i][j].as_numpy_array())"
   ]
  },
  {
   "cell_type": "code",
   "execution_count": null,
   "id": "a60df479-2453-400d-9958-4cf051dcc9fd",
   "metadata": {},
   "outputs": [],
   "source": []
  },
  {
   "cell_type": "code",
   "execution_count": null,
   "id": "35e9e9df-c251-42be-ba99-21fd42ece4b0",
   "metadata": {},
   "outputs": [],
   "source": []
  },
  {
   "cell_type": "code",
   "execution_count": null,
   "id": "fe06351a-1d88-4ecb-b6f3-9c9c1f0006da",
   "metadata": {},
   "outputs": [],
   "source": []
  },
  {
   "cell_type": "code",
   "execution_count": 18,
   "id": "4eb2a0c7-1fc9-432a-8829-cbde2107b52f",
   "metadata": {
    "tags": []
   },
   "outputs": [
    {
     "ename": "NameError",
     "evalue": "name 'probes_xyz' is not defined",
     "output_type": "error",
     "traceback": [
      "\u001b[0;31m---------------------------------------------------------------------------\u001b[0m",
      "\u001b[0;31mNameError\u001b[0m                                 Traceback (most recent call last)",
      "Cell \u001b[0;32mIn[18], line 1\u001b[0m\n\u001b[0;32m----> 1\u001b[0m \u001b[38;5;28;01massert\u001b[39;00m np\u001b[38;5;241m.\u001b[39mall(probes_xyz_flex\u001b[38;5;241m.\u001b[39mas_numpy_array()\u001b[38;5;241m==\u001b[39mprobes_xyz)\n",
      "\u001b[0;31mNameError\u001b[0m: name 'probes_xyz' is not defined"
     ]
    }
   ],
   "source": [
    "assert np.all(probes_xyz_flex.as_numpy_array()==probes_xyz)"
   ]
  },
  {
   "cell_type": "code",
   "execution_count": 31,
   "id": "e3b2f039-da0d-4b88-9ae6-20192f6cdc71",
   "metadata": {
    "tags": []
   },
   "outputs": [],
   "source": [
    "from multiprocessing import Pool, cpu_count\n"
   ]
  },
  {
   "cell_type": "code",
   "execution_count": 55,
   "id": "92b0a9d5-5338-4ab0-a149-fd60adf4f04e",
   "metadata": {
    "tags": []
   },
   "outputs": [
    {
     "data": {
      "text/plain": [
       "[1e-06, 1, 2]"
      ]
     },
     "execution_count": 55,
     "metadata": {},
     "output_type": "execute_result"
    }
   ],
   "source": [
    "radii"
   ]
  },
  {
   "cell_type": "code",
   "execution_count": 35,
   "id": "cde28385-e827-44b5-9dfb-d926ab7fc2f1",
   "metadata": {
    "tags": []
   },
   "outputs": [],
   "source": [
    "radii = [1e-6,1,2]\n",
    "probe_results_np= radial_shell_mp(atoms_xyz.as_numpy_array(),radii=radii,n_probes=16,n_probes_target=8)\n",
    "#probe_xyz,keep_mask = radial_shell_mp(atoms_xyz.as_numpy_array(),radii=radii,n_probes=16,n_probes_target=8)"
   ]
  },
  {
   "cell_type": "code",
   "execution_count": null,
   "id": "ad080cba-3c69-4c0b-ac96-d201dd9c97bb",
   "metadata": {},
   "outputs": [],
   "source": []
  },
  {
   "cell_type": "code",
   "execution_count": 61,
   "id": "2baf4f35-0a71-4b6a-abee-bf7042009062",
   "metadata": {
    "tags": []
   },
   "outputs": [],
   "source": [
    "from multiprocessing import Pool, cpu_count\n",
    "def radial_shell_cctbx_mp(model,n_probes=64,n_probes_target=8,radii=None,rtol=0.9,num_processes=cpu_count()):\n",
    "\n",
    "    # Create argument tuples for each chunk\n",
    "    args = [(i,model,n_probes,n_probes_target,radius_shell,rtol) for i,radius_shell in enumerate(radii)]\n",
    "    \n",
    "    # Create a pool of worker processes\n",
    "    if num_processes >1:\n",
    "      with Pool(num_processes) as p:\n",
    "          # Use the pool to run the trilinear_interpolation_worker function in parallel\n",
    "          results = p.map(radial_shell_worker_cctbx, args)\n",
    "    else:\n",
    "      results = []\n",
    "      for arg in args:\n",
    "        result = radial_shell_worker_cctbx(arg)\n",
    "        results.append(result)\n",
    "\n",
    "        \n",
    "    probe_xyz_all = [result[0] for result in results]\n",
    "    keep_mask_all = [result[1] for result in results]\n",
    "    all_pts_all = [result[2] for result in results]\n",
    "    return all_pts_all # debug\n",
    "    n_shells = len(radii)\n",
    "    n_atoms = model.get_number_of_atoms()\n",
    "    out_shape = (n_shells,n_atoms,n_probes_target,3 )\n",
    "    out_size = math.prod(out_shape)\n",
    "    shell_size = math.prod(out_shape[1:])\n",
    "    out_probes = flex.double(out_size,-1.0)\n",
    "    for i,p in enumerate(probe_xyz_all):\n",
    "        start = i*shell_size\n",
    "        stop = start+shell_size\n",
    "        out_probes = out_probes.set_selected(flex.uint32_range(start,stop),p.as_1d())\n",
    "    out_probes.reshape(flex.grid(*out_shape))\n",
    "\n",
    "    out_mask = flex.bool(n_atoms*n_shells*n_probes_target,False)\n",
    "    for i,k in enumerate(keep_mask_all):\n",
    "        start = i*(n_atoms*n_probes_target)\n",
    "        stop = start+(n_atoms*n_probes_target)\n",
    "        out_mask = out_mask.set_selected(flex.uint32_range(start,stop),k.as_1d())\n",
    "    out_mask = flex.bool(n_atoms*n_shells*n_probes_target,False)\n",
    "    out_mask.reshape(flex.grid(n_shells,n_atoms,n_probes_target))"
   ]
  },
  {
   "cell_type": "code",
   "execution_count": 62,
   "id": "e97c0c12-3641-4f0b-9cef-9b122bffbe9c",
   "metadata": {},
   "outputs": [
    {
     "ename": "IndexError",
     "evalue": "tuple index out of range",
     "output_type": "error",
     "traceback": [
      "\u001b[0;31m---------------------------------------------------------------------------\u001b[0m",
      "\u001b[0;31mIndexError\u001b[0m                                Traceback (most recent call last)",
      "Cell \u001b[0;32mIn[62], line 1\u001b[0m\n\u001b[0;32m----> 1\u001b[0m probe_results_cctbx\u001b[38;5;241m=\u001b[39m radial_shell_cctbx_mp(model,radii\u001b[38;5;241m=\u001b[39mradii,n_probes\u001b[38;5;241m=\u001b[39m\u001b[38;5;241m16\u001b[39m,n_probes_target\u001b[38;5;241m=\u001b[39m\u001b[38;5;241m8\u001b[39m)\n",
      "Cell \u001b[0;32mIn[61], line 21\u001b[0m, in \u001b[0;36mradial_shell_cctbx_mp\u001b[0;34m(model, n_probes, n_probes_target, radii, rtol, num_processes)\u001b[0m\n\u001b[1;32m     19\u001b[0m probe_xyz_all \u001b[38;5;241m=\u001b[39m [result[\u001b[38;5;241m0\u001b[39m] \u001b[38;5;28;01mfor\u001b[39;00m result \u001b[38;5;129;01min\u001b[39;00m results]\n\u001b[1;32m     20\u001b[0m keep_mask_all \u001b[38;5;241m=\u001b[39m [result[\u001b[38;5;241m1\u001b[39m] \u001b[38;5;28;01mfor\u001b[39;00m result \u001b[38;5;129;01min\u001b[39;00m results]\n\u001b[0;32m---> 21\u001b[0m all_pts_all \u001b[38;5;241m=\u001b[39m [result[\u001b[38;5;241m2\u001b[39m] \u001b[38;5;28;01mfor\u001b[39;00m result \u001b[38;5;129;01min\u001b[39;00m results]\n\u001b[1;32m     22\u001b[0m \u001b[38;5;28;01mreturn\u001b[39;00m all_pts_all \u001b[38;5;66;03m# debug\u001b[39;00m\n\u001b[1;32m     23\u001b[0m n_shells \u001b[38;5;241m=\u001b[39m \u001b[38;5;28mlen\u001b[39m(radii)\n",
      "Cell \u001b[0;32mIn[61], line 21\u001b[0m, in \u001b[0;36m<listcomp>\u001b[0;34m(.0)\u001b[0m\n\u001b[1;32m     19\u001b[0m probe_xyz_all \u001b[38;5;241m=\u001b[39m [result[\u001b[38;5;241m0\u001b[39m] \u001b[38;5;28;01mfor\u001b[39;00m result \u001b[38;5;129;01min\u001b[39;00m results]\n\u001b[1;32m     20\u001b[0m keep_mask_all \u001b[38;5;241m=\u001b[39m [result[\u001b[38;5;241m1\u001b[39m] \u001b[38;5;28;01mfor\u001b[39;00m result \u001b[38;5;129;01min\u001b[39;00m results]\n\u001b[0;32m---> 21\u001b[0m all_pts_all \u001b[38;5;241m=\u001b[39m [result[\u001b[38;5;241m2\u001b[39m] \u001b[38;5;28;01mfor\u001b[39;00m result \u001b[38;5;129;01min\u001b[39;00m results]\n\u001b[1;32m     22\u001b[0m \u001b[38;5;28;01mreturn\u001b[39;00m all_pts_all \u001b[38;5;66;03m# debug\u001b[39;00m\n\u001b[1;32m     23\u001b[0m n_shells \u001b[38;5;241m=\u001b[39m \u001b[38;5;28mlen\u001b[39m(radii)\n",
      "\u001b[0;31mIndexError\u001b[0m: tuple index out of range"
     ]
    }
   ],
   "source": [
    "probe_results_cctbx= radial_shell_cctbx_mp(model,radii=radii,n_probes=16,n_probes_target=8)\n"
   ]
  },
  {
   "cell_type": "code",
   "execution_count": null,
   "id": "9b9efe0a-a216-4021-822b-7d9cd2ee078f",
   "metadata": {
    "tags": []
   },
   "outputs": [],
   "source": [
    "for i in range(3):\n",
    "    for j in range(model.get_number_of_atoms()):\n",
    "        \n",
    "        a = probe_results_np[i][j]\n",
    "        b = probe_results_cctbx[i].as_numpy_array()[j]\n",
    "        assert np.all(np.isclose(a,b)), print(i,j)"
   ]
  },
  {
   "cell_type": "code",
   "execution_count": 53,
   "id": "2fa96a68-4f8f-434e-b3ea-feb93d979177",
   "metadata": {
    "tags": []
   },
   "outputs": [
    {
     "data": {
      "text/plain": [
       "array([[-4.43800000e+00,  1.59000000e+00,  1.90500000e+00],\n",
       "       [-5.08773129e+00,  4.64189514e-01,  2.38500000e+00],\n",
       "       [-3.81407847e+00,  2.62927308e-01,  2.54500000e+00],\n",
       "       [-3.00695678e+00,  2.52301410e+00,  2.86500000e+00],\n",
       "       [-5.25574576e+00, -2.19334648e-01,  3.66500000e+00],\n",
       "       [-3.88169632e+00, -3.29407779e-01,  3.82500000e+00],\n",
       "       [-5.61218292e+00,  3.49155742e-01,  4.94500000e+00],\n",
       "       [-4.23896468e+00,  2.42797347e-03,  5.10500000e+00]])"
      ]
     },
     "execution_count": 53,
     "metadata": {},
     "output_type": "execute_result"
    }
   ],
   "source": [
    "probe_results_np[2][12]"
   ]
  },
  {
   "cell_type": "code",
   "execution_count": 54,
   "id": "6bf13244-7907-4325-9fe6-cd5fcc042259",
   "metadata": {
    "tags": []
   },
   "outputs": [
    {
     "data": {
      "text/plain": [
       "array([[-4.438     ,  1.59      ,  1.905     ],\n",
       "       [-5.08773129,  0.46418951,  2.385     ],\n",
       "       [-3.81407847,  0.26292731,  2.545     ],\n",
       "       [-3.00695678,  2.5230141 ,  2.865     ],\n",
       "       [-5.25574576, -0.21933465,  3.665     ],\n",
       "       [-3.88169632, -0.32940778,  3.825     ],\n",
       "       [-6.23383033,  1.61436062,  4.785     ],\n",
       "       [-5.61218292,  0.34915574,  4.945     ]])"
      ]
     },
     "execution_count": 54,
     "metadata": {},
     "output_type": "execute_result"
    }
   ],
   "source": [
    "probe_results_cctbx[2].as_numpy_array()[12]"
   ]
  },
  {
   "cell_type": "code",
   "execution_count": null,
   "id": "d7fc2683-8432-4655-a86c-0dc353220f55",
   "metadata": {},
   "outputs": [],
   "source": []
  },
  {
   "cell_type": "code",
   "execution_count": null,
   "id": "ff143adb-53e4-419d-940a-d2819baa029b",
   "metadata": {},
   "outputs": [],
   "source": []
  },
  {
   "cell_type": "code",
   "execution_count": null,
   "id": "90d48f32-f4e1-422b-aa0b-b64edd77056b",
   "metadata": {},
   "outputs": [],
   "source": []
  },
  {
   "cell_type": "code",
   "execution_count": 37,
   "id": "7466d2c0-706e-4253-98c4-160da5a73c70",
   "metadata": {
    "tags": []
   },
   "outputs": [],
   "source": [
    "a,b,c,d = np.where(~np.isclose(probe_xyz,out_probes.as_numpy_array()))"
   ]
  },
  {
   "cell_type": "code",
   "execution_count": 50,
   "id": "14b2fb47-3e26-4301-b7a1-ecbbde99e4a3",
   "metadata": {
    "tags": []
   },
   "outputs": [
    {
     "ename": "AssertionError",
     "evalue": "",
     "output_type": "error",
     "traceback": [
      "\u001b[0;31m---------------------------------------------------------------------------\u001b[0m",
      "\u001b[0;31mAssertionError\u001b[0m                            Traceback (most recent call last)",
      "Cell \u001b[0;32mIn[50], line 4\u001b[0m\n\u001b[1;32m      2\u001b[0m a \u001b[38;5;241m=\u001b[39m probe_xyz[i]\n\u001b[1;32m      3\u001b[0m b \u001b[38;5;241m=\u001b[39m probe_xyz_all[i]\u001b[38;5;241m.\u001b[39mas_numpy_array()\n\u001b[0;32m----> 4\u001b[0m \u001b[38;5;28;01massert\u001b[39;00m np\u001b[38;5;241m.\u001b[39mall(np\u001b[38;5;241m.\u001b[39misclose(a,b))\n",
      "\u001b[0;31mAssertionError\u001b[0m: "
     ]
    }
   ],
   "source": [
    "for i in range(3):\n",
    "    a = probe_xyz[i]\n",
    "    b = probe_xyz_all[i].as_numpy_array()\n",
    "    assert np.all(np.isclose(a,b))"
   ]
  },
  {
   "cell_type": "code",
   "execution_count": 48,
   "id": "404463a8-b774-4d7d-afe4-a1bb8f9b8d75",
   "metadata": {
    "tags": []
   },
   "outputs": [
    {
     "data": {
      "text/plain": [
       "False"
      ]
     },
     "execution_count": 48,
     "metadata": {},
     "output_type": "execute_result"
    }
   ],
   "source": []
  },
  {
   "cell_type": "code",
   "execution_count": 38,
   "id": "46615da7-9f4f-4a85-9aee-8fb5f84f7a83",
   "metadata": {
    "tags": []
   },
   "outputs": [
    {
     "data": {
      "text/plain": [
       "array([-5.61218292e+00,  3.49155742e-01,  4.94500000e+00, -4.23896468e+00,\n",
       "        2.42797347e-03,  5.10500000e+00, -1.91869799e+00,  3.84089035e+00,\n",
       "        5.30729412e+00,  1.07687204e-01,  2.70859406e+00,  6.24847059e+00,\n",
       "       -3.28062730e-01,  4.25401302e+00,  6.48376471e+00, -1.82012496e+00,\n",
       "        4.89006463e+00,  6.71905882e+00, -3.27832259e+00,  4.15030251e+00,\n",
       "        6.95435294e+00, -4.36311930e-01,  4.05501170e+00,  8.13082353e+00,\n",
       "       -2.11011507e+00,  4.39425206e+00,  8.36611765e+00, -1.46980203e+00,\n",
       "        2.01291598e+00,  8.83670588e+00, -1.98073152e+00, -7.18973909e-01,\n",
       "        6.10600000e+00, -3.34388081e-01, -7.85548900e-01,  6.37266667e+00,\n",
       "        6.11426224e-01,  6.05332017e-01,  6.63933333e+00,  6.96810849e-03,\n",
       "        2.20052937e+00,  6.90600000e+00, -3.04281973e+00, -1.22051276e-01,\n",
       "        7.70600000e+00, -1.59903631e+00, -1.14186503e+00,  7.97266667e+00,\n",
       "        4.94085670e-02, -4.62034454e-01,  8.23933333e+00, -1.47410918e+00,\n",
       "        2.05948338e+00,  8.77266667e+00,  1.08122573e+00,  2.94729955e+00,\n",
       "       -1.16592308e+00,  7.63868316e-01,  1.89377912e+00, -1.06335897e+00,\n",
       "        4.44944061e+00,  1.99663870e+00, -5.50538462e-01,  5.96144831e-01,\n",
       "        2.64187859e+00, -3.77179487e-02,  3.32226071e+00,  2.78374994e-01,\n",
       "        3.72538462e-01,  4.14628350e+00,  1.05168292e+00,  4.75102564e-01,\n",
       "        4.38620071e+00,  2.15747259e+00,  5.77666667e-01,  3.63185195e+00,\n",
       "        2.49195681e+00,  1.50074359e+00,  7.02641347e-01,  2.99046661e+00,\n",
       "        5.99482609e+00,  3.26827447e+00,  3.95675477e+00,  6.69047826e+00,\n",
       "        2.12567047e+00,  4.76645541e+00,  6.86439130e+00,  7.38321980e-01,\n",
       "        4.51202147e+00,  7.03830435e+00,  1.20924650e-01,  1.94281299e+00,\n",
       "        7.38613043e+00,  3.65855658e+00,  3.63094551e+00,  8.08178261e+00,\n",
       "        2.64571428e+00,  4.67118198e+00,  8.25569565e+00,  1.18843556e+00,\n",
       "        4.67545670e+00,  8.42960870e+00,  2.93669216e-01,  4.00805253e+00,\n",
       "        8.35750877e+00, -3.50951357e-01,  3.33602581e+00,  8.42768421e+00,\n",
       "       -6.03132015e-01,  2.43875672e+00,  8.49785965e+00,  2.77833309e+00,\n",
       "        1.02417690e+00,  8.84873684e+00,  3.25622327e+00,  1.82904613e+00,\n",
       "        8.91891228e+00,  3.31283133e+00,  2.76396004e+00,  8.98908772e+00,\n",
       "       -2.96388364e-01,  3.49110589e+00,  9.33996491e+00, -5.94413696e-01,\n",
       "        2.59971032e+00,  9.41014035e+00,  8.89455658e+00,  3.69694551e+00,\n",
       "        3.42778261e+00,  7.88171428e+00,  4.73718198e+00,  3.60169565e+00,\n",
       "        6.42443556e+00,  4.74145670e+00,  3.77560870e+00,  3.05626848e+00,\n",
       "       -8.44973909e-01,  9.09100000e+00,  3.38603470e+00,  2.54804277e+00,\n",
       "        1.01576667e+01,  1.99418027e+00, -2.48051276e-01,  1.06910000e+01,\n",
       "        3.43796369e+00, -1.26786503e+00,  1.09576667e+01,  5.08640857e+00,\n",
       "       -5.88034454e-01,  1.12243333e+01,  3.56289082e+00,  1.93348338e+00,\n",
       "        1.17576667e+01,  2.84057246e+00,  2.15986016e-01,  1.20243333e+01,\n",
       "       -1.79932218e+00,  1.90292307e+00,  9.41144444e+00, -3.16170904e+00,\n",
       "        6.17539413e-01,  9.85588889e+00, -2.10128546e+00, -1.10517972e+00,\n",
       "        1.03003333e+01, -4.54541039e-02, -6.72589798e-01,  1.07447778e+01,\n",
       "        3.34040416e-01,  1.44810250e+00,  1.11892222e+01, -1.56101305e+00,\n",
       "        2.56663072e+00,  1.16336667e+01, -3.13918800e+00,  9.62169248e-01,\n",
       "        1.20781111e+01, -1.41065309e+00, -5.71899535e-01,  1.25225556e+01])"
      ]
     },
     "execution_count": 38,
     "metadata": {},
     "output_type": "execute_result"
    }
   ],
   "source": [
    "probe_xyz[a,b,c,d]"
   ]
  },
  {
   "cell_type": "code",
   "execution_count": 39,
   "id": "b504d5cb-62f0-4494-91fa-63fc7f2b3e82",
   "metadata": {
    "tags": []
   },
   "outputs": [
    {
     "data": {
      "text/plain": [
       "array([-6.23383033,  1.61436062,  4.785     , -5.61218292,  0.34915574,\n",
       "        4.945     , -1.702     ,  2.925     ,  5.072     , -1.93259453,\n",
       "        3.89576347,  5.33866667,  0.18042622,  2.81533202,  6.40533333,\n",
       "       -0.42403189,  4.41052937,  6.672     , -2.0819653 ,  4.88404277,\n",
       "        6.93866667, -3.47460398,  3.84156825,  7.20533333, -0.22640721,\n",
       "        3.54356763,  8.272     , -1.90510918,  4.26948338,  8.53866667,\n",
       "       -1.271     ,  0.715     ,  5.306     , -1.97645861, -0.81554397,\n",
       "        6.22907692, -0.21276174, -0.79775108,  6.53676923,  0.67422924,\n",
       "        0.77036652,  6.84446154, -2.49218647, -0.66955323,  8.07523077,\n",
       "       -0.5853128 , -0.82450308,  8.38292308, -1.70183662,  1.68992281,\n",
       "        8.99830769, -1.271     ,  0.715     ,  9.306     ,  2.35211673,\n",
       "        2.69285523, -1.97471429,  0.98066484,  2.90177417, -1.06042857,\n",
       "        0.71761155,  1.77174567, -0.94614286,  4.46745093,  2.29545139,\n",
       "       -0.37471429,  0.86993515,  3.18437026,  0.08242857,  4.00097425,\n",
       "        0.94525919,  0.65385714,  4.31015249,  2.09985086,  0.76814286,\n",
       "        3.11051352,  2.74698091,  1.68242857,  1.61230201,  3.86589035,\n",
       "        5.88229412,  0.54054323,  2.97790721,  6.11758824,  1.12546285,\n",
       "        1.59711605,  6.35288235,  3.20293727,  4.27901302,  7.05876471,\n",
       "        1.71087504,  4.91506463,  7.29405882,  0.25267741,  4.17530251,\n",
       "        7.52935294, -0.13189211,  2.57441873,  7.76464706,  3.09468807,\n",
       "        4.0800117 ,  8.70582353, -0.24286014,  2.47710127,  7.73831373,\n",
       "        0.90452326,  4.29733751,  8.44419608,  0.02642828,  3.85550008,\n",
       "        8.52262745, -0.52275075,  3.03903932,  8.60105882,  2.49034143,\n",
       "        0.77559728,  8.99321569,  3.33265543,  2.49647937,  9.15007843,\n",
       "       -0.29645713,  3.39526431,  9.54223529, -0.54153199,  2.43201812,\n",
       "        9.62066667,  8.89404113,  2.25013081,  3.25386957,  8.89455658,\n",
       "        3.69694551,  3.42778261,  7.88171428,  4.73718198,  3.60169565,\n",
       "        3.51828143,  1.62569194,  8.59869231,  3.06054139, -0.94154397,\n",
       "        9.21407692,  1.85660393,  0.96475112, 10.75253846,  2.54481353,\n",
       "       -0.79555323, 11.06023077,  4.4516872 , -0.95050308, 11.36792308,\n",
       "        3.33516338,  1.56392281, 11.98330769,  3.766     ,  0.589     ,\n",
       "       12.291     , -1.5       ,  0.682     ,  8.967     , -1.79932218,\n",
       "        1.90292307,  9.41144444, -3.16170904,  0.61753941,  9.85588889,\n",
       "       -2.10128546, -1.10517972, 10.30033333, -0.0454541 , -0.6725898 ,\n",
       "       10.74477778,  0.33404042,  1.4481025 , 11.18922222, -1.56101305,\n",
       "        2.56663072, 11.63366667, -3.139188  ,  0.96216925, 12.07811111])"
      ]
     },
     "execution_count": 39,
     "metadata": {},
     "output_type": "execute_result"
    }
   ],
   "source": [
    "out_probes.as_numpy_array()[a,b,c,d]"
   ]
  },
  {
   "cell_type": "code",
   "execution_count": null,
   "id": "6751ae5e-42cb-4daa-a165-00c2bb61e66e",
   "metadata": {},
   "outputs": [],
   "source": []
  },
  {
   "cell_type": "code",
   "execution_count": null,
   "id": "21d0d0fb-211e-44e0-a1e5-3285c0e7a0a3",
   "metadata": {},
   "outputs": [],
   "source": []
  }
 ],
 "metadata": {
  "kernelspec": {
   "display_name": "Python 3 (ipykernel)",
   "language": "python",
   "name": "python3"
  },
  "language_info": {
   "codemirror_mode": {
    "name": "ipython",
    "version": 3
   },
   "file_extension": ".py",
   "mimetype": "text/x-python",
   "name": "python",
   "nbconvert_exporter": "python",
   "pygments_lexer": "ipython3",
   "version": "3.11.4"
  }
 },
 "nbformat": 4,
 "nbformat_minor": 5
}
