{
 "cells": [
  {
   "cell_type": "code",
   "execution_count": 48,
   "id": "cbbd462f-cf6c-4512-b17a-a28938ec2e56",
   "metadata": {},
   "outputs": [
    {
     "name": "stdout",
     "output_type": "stream",
     "text": [
      "14\n"
     ]
    }
   ],
   "source": [
    "import iotbx.pdb\n",
    "from scitbx.array_family import flex\n",
    "from cctbx import crystal\n",
    "import cctbx\n",
    "import math\n",
    "\n",
    "#def run(cutoff = 3.5):\n",
    "cutoff = 1.3\n",
    "pdb_inp = iotbx.pdb.input(file_name = \"1yjp.pdb\")\n",
    "crystal_symmetry = pdb_inp.crystal_symmetry()\n",
    "hierarchy = pdb_inp.construct_hierarchy()\n",
    "sites_cart = hierarchy.atoms().extract_xyz()\n",
    "sst = crystal_symmetry.special_position_settings().site_symmetry_table(\n",
    "sites_cart = sites_cart)\n",
    "conn_asu_mappings = crystal_symmetry.special_position_settings().\\\n",
    "asu_mappings(buffer_thickness=5)\n",
    "conn_asu_mappings.process_sites_cart(\n",
    "original_sites      = sites_cart,\n",
    "site_symmetry_table = sst)\n",
    "# conn_pair_asu_table = cctbx.crystal.pair_asu_table(\n",
    "# asu_mappings=conn_asu_mappings)\n",
    "#conn_pair_asu_table.add_all_pairs(distance_cutoff=cutoff)\n",
    "pair_generator = cctbx.crystal.neighbors_fast_pair_generator(\n",
    "conn_asu_mappings,\n",
    "distance_cutoff=cutoff)\n",
    "fm = crystal_symmetry.unit_cell().fractionalization_matrix()\n",
    "om = crystal_symmetry.unit_cell().orthogonalization_matrix()\n",
    "\n",
    "def dist_expl(r1, r2, op):\n",
    "    r1_f = fm*flex.vec3_double([r1]) # convert to fractional coordinates\n",
    "    r1_f_mapped = op*r1_f[0] # apply symmetry operator\n",
    "    r1_c_mapped = (om*flex.vec3_double([r1_f_mapped]))[0] # back to Cartesian\n",
    "    return math.sqrt( (r1_c_mapped[0]-r2[0])**2 +\n",
    "                      (r1_c_mapped[1]-r2[1])**2 +\n",
    "                      (r1_c_mapped[2]-r2[2])**2 )\n",
    "\n",
    "pairs = []\n",
    "for pair in pair_generator:\n",
    "    rt_mx_i = conn_asu_mappings.get_rt_mx_i(pair)\n",
    "    rt_mx_j = conn_asu_mappings.get_rt_mx_j(pair)\n",
    "    rt_mx_ji = rt_mx_i.inverse().multiply(rt_mx_j)\n",
    "    i,j = pair.i_seq, pair.j_seq\n",
    "    # Compute distance explicitly - just for illustration\n",
    "    de = dist_expl(r1=sites_cart[j], r2=sites_cart[i], op=rt_mx_ji)\n",
    "    #\n",
    "    if rt_mx_ji.is_unit_mx():\n",
    "        pairs.append((pair.i_seq, pair.j_seq, rt_mx_ji, math.sqrt(pair.dist_sq), de))\n",
    "    #print(pair.i_seq, pair.j_seq, rt_mx_ji, math.sqrt(pair.dist_sq), de)\n",
    "print(len(pairs))"
   ]
  },
  {
   "cell_type": "code",
   "execution_count": 49,
   "id": "6d3dbf2d-c151-4990-81ee-f191327687d9",
   "metadata": {},
   "outputs": [
    {
     "name": "stdout",
     "output_type": "stream",
     "text": [
      "13\n"
     ]
    }
   ],
   "source": [
    "from sklearn.neighbors import KDTree\n",
    "tree = KDTree(sites_cart)\n",
    "inds = tree.query_radius(sites_cart,r=cutoff)\n",
    "pairs = set()\n",
    "for i,ind in enumerate(inds):\n",
    "    for j in ind:\n",
    "        if i !=j:\n",
    "            pairs.add(frozenset((i,j)))\n",
    "print(len(pairs))"
   ]
  },
  {
   "cell_type": "code",
   "execution_count": null,
   "id": "f2989210-8bf1-45b1-b26c-2c406544e592",
   "metadata": {},
   "outputs": [],
   "source": []
  },
  {
   "cell_type": "code",
   "execution_count": null,
   "id": "d35d4f48-cea5-48b9-b766-17ed5256ed8d",
   "metadata": {},
   "outputs": [],
   "source": []
  }
 ],
 "metadata": {
  "kernelspec": {
   "display_name": "Python 3 (ipykernel)",
   "language": "python",
   "name": "python3"
  },
  "language_info": {
   "codemirror_mode": {
    "name": "ipython",
    "version": 3
   },
   "file_extension": ".py",
   "mimetype": "text/x-python",
   "name": "python",
   "nbconvert_exporter": "python",
   "pygments_lexer": "ipython3",
   "version": "3.11.3"
  }
 },
 "nbformat": 4,
 "nbformat_minor": 5
}
