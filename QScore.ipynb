{
 "cells": [
  {
   "cell_type": "code",
   "execution_count": 1,
   "id": "52a244d5-1552-403e-831e-c1b3c8d4c7e1",
   "metadata": {},
   "outputs": [],
   "source": [
    "from iotbx.data_manager import DataManager\n",
    "from cctbx.array_family import flex\n",
    "import numpy as np\n",
    "import tqdm"
   ]
  },
  {
   "cell_type": "code",
   "execution_count": 2,
   "id": "4502a411-9bfc-4d5f-be11-a1185bbc7bc4",
   "metadata": {},
   "outputs": [],
   "source": [
    "dm = DataManager()\n",
    "dm.process_model_file(\"data/6CVM.cif\")\n",
    "dm.process_real_map_file(\"data/6cvm/emd_7770.map\")\n",
    "mmm = dm.get_map_model_manager()\n",
    "assert mmm.map_manager().density_at_sites_cart(mmm.model().get_sites_cart()).as_numpy_array().sum()>0,(\n",
    "    \"Negative or zero density around atoms. Map/model likely not aligned\")"
   ]
  },
  {
   "cell_type": "code",
   "execution_count": 6,
   "id": "298713d4-ee94-4ec5-9ae3-ee1cd814bb19",
   "metadata": {},
   "outputs": [],
   "source": [
    "from qscore import radial_density_average"
   ]
  },
  {
   "cell_type": "code",
   "execution_count": 7,
   "id": "a50caff4-b8ca-4134-aa6b-b0afbd867d54",
   "metadata": {},
   "outputs": [
    {
     "name": "stderr",
     "output_type": "stream",
     "text": [
      "100%|██████████████████████████████████████████████████████████████████████████████████████████████████████████████████████████████████████████████████████████████████████████████████████████████████████████████████████████████████████████████████████████████████████████████████████████████████████████████████████████████████████████████████████████████████████████████████████████████████| 16/16 [00:22<00:00,  1.40s/it]\n"
     ]
    }
   ],
   "source": [
    "# calculate radial profiles v\n",
    "\n",
    "radial_profiles = [] # radial profile array for each radius r\n",
    "atoms_all = [] # atoms for each radius r (redundant)\n",
    "probes_xyz = [] # probe coordinates for each radius r\n",
    "\n",
    "n_r = 16\n",
    "rs = np.linspace(0,2,n_r)\n",
    "for r in tqdm.tqdm(rs):\n",
    "    profile, probe_xyz, atoms = radial_density_average(mmm,r=r,n=16,selection=\"all\")\n",
    "    atoms_all.append(atoms)\n",
    "    radial_profiles.append(profile)\n",
    "    probes_xyz.append(probe_xyz)\n",
    "\n",
    "radial_profiles = np.array(radial_profiles).T # to (n_atoms_sel,n_probes)\n",
    "atoms = atoms_all[0]\n",
    "\n",
    "# calculate q\n",
    "mm = mmm.map_manager()\n",
    "map_values = mm.map_data().as_numpy_array()\n",
    "Mavg = map_values.mean()\n",
    "Msigma = map_values.std()\n",
    "A = Mavg + 10*Msigma\n",
    "B = Mavg - 1.0*Msigma\n",
    "u = 0\n",
    "sigma = 0.6\n",
    "x = rs\n",
    "y = A * np.exp(-0.5*((x-u)/sigma)**2) + B\n",
    "y_flex = flex.double(list(y))\n",
    "\n",
    "# q for each radial profile\n",
    "q = np.array([flex.linear_correlation(flex.double(list(x)),y_flex).coefficient() for x in radial_profiles])\n"
   ]
  },
  {
   "cell_type": "code",
   "execution_count": null,
   "id": "0f4e0008-c712-4d29-9730-25f07e6aa363",
   "metadata": {},
   "outputs": [],
   "source": []
  }
 ],
 "metadata": {
  "kernelspec": {
   "display_name": "Python 3 (ipykernel)",
   "language": "python",
   "name": "python3"
  },
  "language_info": {
   "codemirror_mode": {
    "name": "ipython",
    "version": 3
   },
   "file_extension": ".py",
   "mimetype": "text/x-python",
   "name": "python",
   "nbconvert_exporter": "python",
   "pygments_lexer": "ipython3",
   "version": "3.10.5"
  }
 },
 "nbformat": 4,
 "nbformat_minor": 5
}
